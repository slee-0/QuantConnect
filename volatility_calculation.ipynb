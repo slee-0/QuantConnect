{
 "cells": [
  {
   "cell_type": "markdown",
   "id": "390c58e7",
   "metadata": {},
   "source": [
    "# Stock Volatility Calculation"
   ]
  },
  {
   "cell_type": "code",
   "execution_count": null,
   "id": "16cf683f",
   "metadata": {},
   "outputs": [],
   "source": [
    "from AlgorithmImports import *\n",
    "from datetime import datetime, date, time, timedelta\n",
    "import numpy as np\n",
    "import pandas as pd\n",
    "import statsmodels\n",
    "import statsmodels.api as sm\n",
    "from statsmodels.tsa.stattools import coint, adfuller\n",
    "import matplotlib.pyplot as plt\n",
    "from scipy import stats"
   ]
  },
  {
   "cell_type": "code",
   "execution_count": null,
   "id": "2eb86f50",
   "metadata": {},
   "outputs": [],
   "source": [
    "qb = QuantBook()\n",
    "equity = qb.AddEquity(\"JPM\")\n",
    "symbol = qb.Symbol(\"JPM\")\n",
    "start_date = datetime(2020,2,2,0,0)\n",
    "end_date = datetime(2020,6,2,0,0)\n",
    "history = qb.History(symbol, start=start_date, end=end_date, resolution=Resolution.Hour)"
   ]
  },
  {
   "cell_type": "code",
   "execution_count": null,
   "id": "49a521b6",
   "metadata": {},
   "outputs": [],
   "source": [
    "# Get closing prices in the specified time period with hourly resolution\n",
    "df = history['close'].unstack(level=0)\n",
    "df.columns = ['JPM']"
   ]
  },
  {
   "cell_type": "code",
   "execution_count": null,
   "id": "88555e1d",
   "metadata": {},
   "outputs": [],
   "source": [
    "# Get the highest, lowest and average price for the closing price.\n",
    "print(\"Highest price:\", df['JPM'].max())\n",
    "print(\"Lowest price:\", df['JPM'].min())\n",
    "print(\"Average price:\", df['JPM'].mean())"
   ]
  },
  {
   "cell_type": "code",
   "execution_count": null,
   "id": "fb5cd5c3",
   "metadata": {},
   "outputs": [],
   "source": [
    "# Calculate the hourly percentage change\n",
    "df_shifted = df.shift(periods=1)\n",
    "hourly_change = df.diff()/df_shifted*100\n",
    "hourly_change.dropna(inplace=True)\n",
    "hourly_change"
   ]
  },
  {
   "cell_type": "code",
   "execution_count": null,
   "id": "37f6e01a",
   "metadata": {},
   "outputs": [],
   "source": [
    "# Find the highest, lowest, mean and standard deviation for the hourly percentage changes\n",
    "print(\"Highest percentage change:\", hourly_change['JPM'].max())\n",
    "print(\"Lowest percentage change:\", hourly_change['JPM'].min())\n",
    "print(\"Mean percentage change:\", hourly_change['JPM'].mean())\n",
    "print(\"Standard deviation (hourly volatility):\", hourly_change['JPM'].std())"
   ]
  },
  {
   "cell_type": "code",
   "execution_count": null,
   "id": "e7505b98",
   "metadata": {},
   "outputs": [],
   "source": [
    "daily_history = qb.History(symbol, start=start_date, end=end_date, resolution=Resolution.Daily)\n",
    "minute_history = qb.History(symbol, start=start_date, end=end_date, resolution=Resolution.Minute)\n",
    "daily_df = daily_history['close'].unstack(level=0)\n",
    "daily_df.columns = ['JPM']\n",
    "daily_df_shifted = daily_df.shift(periods=1)\n",
    "minute_df = minute_history['close'].unstack(level=0)\n",
    "minute_df.columns = ['JPM']\n",
    "minute_df_shifted = minute_df.shift(periods=1)"
   ]
  },
  {
   "cell_type": "code",
   "execution_count": null,
   "id": "39b92be4",
   "metadata": {},
   "outputs": [],
   "source": [
    "# Compute daily volatility for JPM\n",
    "daily_change = daily_df.diff()/daily_df_shifted*100\n",
    "daily_change.dropna(inplace=True)\n",
    "print(\"Daily volatility\", daily_change['JPM'].std())"
   ]
  },
  {
   "cell_type": "code",
   "execution_count": null,
   "id": "7dc58e55",
   "metadata": {},
   "outputs": [],
   "source": [
    "# Compute minute volatility for JPM\n",
    "minute_change = minute_df.diff()/minute_df_shifted*100\n",
    "minute_change.dropna(inplace=True)\n",
    "print(\"Minute volatility\", minute_change['JPM'].std())"
   ]
  },
  {
   "cell_type": "markdown",
   "id": "937a972b",
   "metadata": {},
   "source": [
    "The stock volatility does not grow linearly with time frequency."
   ]
  }
 ],
 "metadata": {
  "kernelspec": {
   "display_name": "Python 3 (ipykernel)",
   "language": "python",
   "name": "python3"
  },
  "language_info": {
   "codemirror_mode": {
    "name": "ipython",
    "version": 3
   },
   "file_extension": ".py",
   "mimetype": "text/x-python",
   "name": "python",
   "nbconvert_exporter": "python",
   "pygments_lexer": "ipython3",
   "version": "3.9.7"
  }
 },
 "nbformat": 4,
 "nbformat_minor": 5
}
