{
 "cells": [
  {
   "cell_type": "markdown",
   "id": "87e89860",
   "metadata": {},
   "source": [
    "# Computing Sharpe Ratio"
   ]
  },
  {
   "cell_type": "code",
   "execution_count": null,
   "id": "29957896",
   "metadata": {},
   "outputs": [],
   "source": [
    "from AlgorithmImports import *\n",
    "from datetime import datetime, date, time, timedelta\n",
    "import numpy as np\n",
    "import pandas as pd\n",
    "import statsmodels\n",
    "import statsmodels.api as sm\n",
    "from statsmodels.tsa.stattools import coint, adfuller\n",
    "import matplotlib.pyplot as plt\n",
    "from scipy import stats\n",
    "\n",
    "qb = QuantBook()\n",
    "start_date = datetime(2019,2,1,0,0)\n",
    "end_date = datetime(2021,2,1,0,0)"
   ]
  },
  {
   "cell_type": "markdown",
   "id": "880ded12",
   "metadata": {},
   "source": [
    "Compute the Sharpe Ratio of a buy-and-hold strategy for each of the above stocks individually for the time period 2/1/2019 to 2/1/2021."
   ]
  },
  {
   "cell_type": "code",
   "execution_count": null,
   "id": "7d136022",
   "metadata": {},
   "outputs": [],
   "source": [
    "tickers = ['GS', 'MS', 'AMD', 'XOM']\n",
    "for ticker in tickers:\n",
    "    qb.AddEquity(ticker, Resolution.Daily)\n",
    "    history = qb.History(tickers, start=start_date, end=end_date, resolution=Resolution.Daily)\n",
    "    df = history['close'].unstack(level=0)\n",
    "    dg = df[ticker].apply(lambda x: math.log(x))\n",
    "    dg = dg.diff(1).dropna() # daily log return\n",
    "\n",
    "    #### ***Compute Daily Return, Convert to Annual Return, compute Sharpe Ratio***\n",
    "    # Annual Return\n",
    "    x_0 = df[ticker].iloc[0] # first price\n",
    "    x_1 = df[ticker].iloc[-1] # latest prices\n",
    "\n",
    "    return_yr = (x_1-x_0)/x_0\n",
    "\n",
    "    sigma_d = dg.std()\n",
    "    sigma_yr = sigma_d*math.sqrt(260) # square root of time rule\n",
    "\n",
    "    rf = 0.0025\n",
    "\n",
    "    sharpe = (return_yr - rf)/sigma_yr\n",
    "    print(\"Sharpe Ratio for %s:\" % ticker, sharpe)"
   ]
  },
  {
   "cell_type": "markdown",
   "id": "5e91a4ec",
   "metadata": {},
   "source": [
    "Perform Jarque-Bera test to see if Geometric Brownian Motion assumption holds for these stocks during the given time period. 95% confidence interval assumed."
   ]
  },
  {
   "cell_type": "code",
   "execution_count": null,
   "id": "47761d77",
   "metadata": {},
   "outputs": [],
   "source": [
    "df = history['close'].unstack(level=0)\n",
    "df.columns = tickers\n",
    "\n",
    "for ticker in tickers:\n",
    "    dg = df[ticker].apply(lambda x: math.log(x))\n",
    "    dg = dg.diff(1).dropna() # daily log return\n",
    "    jarquebera = statsmodels.stats.stattools.jarque_bera(dg.values)\n",
    "    print(ticker, \":\", jarquebera)"
   ]
  }
 ],
 "metadata": {
  "kernelspec": {
   "display_name": "Python 3 (ipykernel)",
   "language": "python",
   "name": "python3"
  },
  "language_info": {
   "codemirror_mode": {
    "name": "ipython",
    "version": 3
   },
   "file_extension": ".py",
   "mimetype": "text/x-python",
   "name": "python",
   "nbconvert_exporter": "python",
   "pygments_lexer": "ipython3",
   "version": "3.9.7"
  }
 },
 "nbformat": 4,
 "nbformat_minor": 5
}
