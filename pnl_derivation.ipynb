{
 "cells": [
  {
   "cell_type": "markdown",
   "id": "3e8a072b",
   "metadata": {},
   "source": [
    "# Profit-and-Loss Derivation"
   ]
  },
  {
   "cell_type": "markdown",
   "id": "d69e43f2",
   "metadata": {},
   "source": [
    "\\begin{align*}\n",
    "    PnL(t,T) &= \\xi \\frac{Wt_P\\cdot C}{P_t}(P_T-P_t) + (-\\xi) \\frac{Wt_Q\\cdot C}{Q_t} (Q_T-Q_t)\\\\\n",
    "    &= \\xi Wt_P C \\frac{P_T-P_t}{P_t} + (-\\xi) Wt_Q C \\frac{Q_T-Q_t}{Q_t}\\\\\n",
    "    &\\approx \\xi Wt_P C (\\log P_T - \\log P_t) + (-\\xi) Wt_Q C (\\log Q_T - \\log Q_t)\\\\\n",
    "    &= \\xi Wt_P C ((\\beta \\log Q_T + \\alpha+\\epsilon_T) - (\\beta\\log Q_t+\\alpha+\\epsilon_t)) + (-\\xi) Wt_Q C (\\log Q_T - \\log Q_t)\\\\\n",
    "    &= \\xi Wt_P C (\\beta (\\log Q_T - \\log Q_t)+ (\\epsilon_T-\\epsilon_t)) + (-\\xi) Wt_Q C (\\log Q_T - \\log Q_t)\\\\\n",
    "    &= \\xi Wt_P C (\\beta (\\log Q_T - \\log Q_t)+ (\\epsilon_T-\\epsilon_t)) + (-\\xi) \\beta Wt_P C (\\log Q_T - \\log Q_t)\\\\\n",
    "    &= (\\xi-\\xi)\\beta Wt_P C (\\log Q_T-\\log Q_t) + \\xi Wt_P C(\\epsilon_T-\\epsilon_t)\\\\\n",
    "    &= \\xi Wt_P C(\\epsilon_T-\\epsilon_t).\n",
    "\\end{align*}"
   ]
  }
 ],
 "metadata": {
  "kernelspec": {
   "display_name": "Python 3 (ipykernel)",
   "language": "python",
   "name": "python3"
  },
  "language_info": {
   "codemirror_mode": {
    "name": "ipython",
    "version": 3
   },
   "file_extension": ".py",
   "mimetype": "text/x-python",
   "name": "python",
   "nbconvert_exporter": "python",
   "pygments_lexer": "ipython3",
   "version": "3.9.7"
  }
 },
 "nbformat": 4,
 "nbformat_minor": 5
}
