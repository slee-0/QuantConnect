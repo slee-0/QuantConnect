{
 "cells": [
  {
   "cell_type": "markdown",
   "id": "99831d36",
   "metadata": {},
   "source": [
    "# Augmented Dickey-Fuller Test"
   ]
  },
  {
   "cell_type": "code",
   "execution_count": null,
   "id": "e3d3917e",
   "metadata": {},
   "outputs": [],
   "source": [
    "import numpy as np\n",
    "import pandas as pd\n",
    "from datetime import timedelta, datetime\n",
    "import math\n",
    "import statsmodels.api as sm\n",
    "from statsmodels.tsa.stattools import coint, adfuller\n",
    "qb = QuantBook()"
   ]
  },
  {
   "cell_type": "code",
   "execution_count": null,
   "id": "3d814a22",
   "metadata": {},
   "outputs": [],
   "source": [
    "def stats(symbols):\n",
    "    start_time = datetime(2018, 1, 1)\n",
    "    end_time = datetime(2019, 1, 1)\n",
    "    df = qb.History(symbols, start=start_time, end=end_time, resolution=Resolution.Daily)\n",
    "    dg = df[\"close\"].unstack(level=0)\n",
    "\n",
    "    ticker1 = str(symbols[0])\n",
    "    ticker2 = str(symbols[1])\n",
    "\n",
    "    Y = dg[ticker1].apply(lambda x: math.log(x))\n",
    "    X = dg[ticker2].apply(lambda x: math.log(x))\n",
    "\n",
    "    X = sm.add_constant(X)\n",
    "    model = sm.OLS(Y,X)\n",
    "    results = model.fit()\n",
    "    sigma = math.sqrt(results.mse_resid)\n",
    "    slope = results.params[1]\n",
    "    intercept = results.params[0]\n",
    "    res = results.resid\n",
    "    zscore = res/sigma\n",
    "    adf = adfuller(res)\n",
    "\n",
    "    return [adf, zscore, slope]"
   ]
  },
  {
   "cell_type": "code",
   "execution_count": null,
   "id": "2ae897ab",
   "metadata": {},
   "outputs": [],
   "source": [
    "# Top 3 stocks obtained from above\n",
    "tickers = ['BRKB', 'CMB', 'NB']\n",
    "filter_fine = [qb.Symbol(\"BRKB R735QTJ8XC9X\"), qb.Symbol(\"CMB R735QTJ8XC9X\"), \n",
    "               qb.Symbol(\"NB R735QTJ8XC9X\")]"
   ]
  },
  {
   "cell_type": "code",
   "execution_count": null,
   "id": "7fba9299",
   "metadata": {},
   "outputs": [],
   "source": [
    "adfpairs = {}\n",
    "\n",
    "# Top 3 stocks in the FinancialServices sector\n",
    "print(\"Top 3 stocks\")\n",
    "for x in filter_fine:\n",
    "    print(str(x))\n",
    "\n",
    "# Form 6 distinct pairs\n",
    "print(\"6 pairs with ADF\")\n",
    "for symbol1 in filter_fine:\n",
    "    for symbol2 in filter_fine:\n",
    "        if symbol1 != symbol2:\n",
    "            p = stats([symbol1, symbol2])[0][1]\n",
    "            print(str(symbol1) + ',' + str(symbol2) + \": \" + str(p))\n",
    "            adfpairs[str(symbol1) + ',' + str(symbol2)] = p\n",
    "\n",
    "# Find the pair with the highest ADF\n",
    "maxval = max(adfpairs, key = lambda k: adfpairs[k])\n",
    "maxidx = maxval.find(\",\")\n",
    "maxsymbol1 = qb.Symbol(maxval[:maxidx])\n",
    "maxsymbol2 = qb.Symbol(maxval[maxidx+1:])\n",
    "print(\"Pair with the highest ADF:\" + maxsymbol1.Value + \",\" + maxsymbol2.Value)\n",
    "\n",
    "# Find the pair with the lowest ADF\n",
    "minval = min(adfpairs, key = lambda k: adfpairs[k])\n",
    "minidx = minval.find(\",\")\n",
    "minsymbol1 = qb.Symbol(minval[:minidx])\n",
    "minsymbol2 = qb.Symbol(minval[minidx+1:])\n",
    "print(\"Pair with the lowest ADF:\" + minsymbol1.Value + \",\" + minsymbol2.Value)"
   ]
  }
 ],
 "metadata": {
  "kernelspec": {
   "display_name": "Python 3 (ipykernel)",
   "language": "python",
   "name": "python3"
  },
  "language_info": {
   "codemirror_mode": {
    "name": "ipython",
    "version": 3
   },
   "file_extension": ".py",
   "mimetype": "text/x-python",
   "name": "python",
   "nbconvert_exporter": "python",
   "pygments_lexer": "ipython3",
   "version": "3.9.7"
  }
 },
 "nbformat": 4,
 "nbformat_minor": 5
}
