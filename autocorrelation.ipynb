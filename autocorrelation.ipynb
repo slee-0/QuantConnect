{
 "cells": [
  {
   "cell_type": "markdown",
   "id": "8d3a24dd",
   "metadata": {},
   "source": [
    "# Computing Autocorrelation"
   ]
  },
  {
   "cell_type": "code",
   "execution_count": null,
   "id": "da97977b",
   "metadata": {},
   "outputs": [],
   "source": [
    "import numpy as np\n",
    "import pandas as pd\n",
    "import time\n",
    "import datetime as dt\n",
    "import matplotlib as plt\n",
    "import plotly\n",
    "\n",
    "from dateutil.relativedelta import relativedelta\n",
    "from datetime import datetime\n",
    "from collections import OrderedDict\n",
    "import pytz"
   ]
  },
  {
   "cell_type": "code",
   "execution_count": null,
   "id": "49e02a3f",
   "metadata": {},
   "outputs": [],
   "source": [
    "start_date = datetime(2019,8,20)\n",
    "end_date = datetime(2020,7,20)\n",
    "qb = QuantBook()"
   ]
  },
  {
   "cell_type": "code",
   "execution_count": null,
   "id": "6682f613",
   "metadata": {},
   "outputs": [],
   "source": [
    "qb.AddEquity('AMD')\n",
    "history = qb.History(['AMD'], start_date, end_date, Resolution.Daily)\n",
    "df = history['close'].unstack(level=0)\n",
    "df.columns = ['close']\n",
    "dg = df.diff(periods = 1).dropna()\n",
    "autocorr = dg['close'].rolling(120).apply(lambda x: x.autocorr(lag=3))\n",
    "print(autocorr)"
   ]
  },
  {
   "cell_type": "code",
   "execution_count": null,
   "id": "d7f09143",
   "metadata": {},
   "outputs": [],
   "source": [
    "print('AMD')\n",
    "print(\"Max:\", autocorr.max())\n",
    "print(\"Min:\", autocorr.min())\n",
    "print(\"Average:\", autocorr.mean())"
   ]
  },
  {
   "cell_type": "code",
   "execution_count": null,
   "id": "dd4ee1d7",
   "metadata": {},
   "outputs": [],
   "source": [
    "qb.AddEquity('AMZN')\n",
    "history = qb.History(['AMZN'], start_date, end_date, Resolution.Daily)\n",
    "df = history['close'].unstack(level=0)\n",
    "df.columns = ['close']\n",
    "dg = df.diff(periods = 1).dropna()\n",
    "autocorr = dg['close'].rolling(120).apply(lambda x: x.autocorr(lag=3))\n",
    "print(autocorr)"
   ]
  },
  {
   "cell_type": "code",
   "execution_count": null,
   "id": "5dde376a",
   "metadata": {},
   "outputs": [],
   "source": [
    "print('AMZN')\n",
    "print(\"Max:\", autocorr.max())\n",
    "print(\"Min:\", autocorr.min())\n",
    "print(\"Average:\", autocorr.mean())"
   ]
  },
  {
   "cell_type": "code",
   "execution_count": null,
   "id": "4a6ce62a",
   "metadata": {},
   "outputs": [],
   "source": [
    "qb.AddEquity('ROKU')\n",
    "history = qb.History(['ROKU'], start_date, end_date, Resolution.Daily)\n",
    "df = history['close'].unstack(level=0)\n",
    "df.columns = ['close']\n",
    "dg = df.diff(periods = 1).dropna()\n",
    "autocorr = dg['close'].rolling(120).apply(lambda x: x.autocorr(lag=3))\n",
    "print(autocorr)"
   ]
  },
  {
   "cell_type": "code",
   "execution_count": null,
   "id": "a693be7f",
   "metadata": {},
   "outputs": [],
   "source": [
    "print('ROKU')\n",
    "print(\"Max:\", autocorr.max())\n",
    "print(\"Min:\", autocorr.min())\n",
    "print(\"Average:\", autocorr.mean())"
   ]
  },
  {
   "cell_type": "code",
   "execution_count": null,
   "id": "323dad1e",
   "metadata": {},
   "outputs": [],
   "source": [
    "qb.AddEquity('JPM')\n",
    "history = qb.History(['JPM'], start_date, end_date, Resolution.Daily)\n",
    "df = history['close'].unstack(level=0)\n",
    "df.columns = ['close']\n",
    "dg = df.diff(periods = 1).dropna()\n",
    "autocorr = dg['close'].rolling(120).apply(lambda x: x.autocorr(lag=3))\n",
    "print(autocorr)"
   ]
  },
  {
   "cell_type": "code",
   "execution_count": null,
   "id": "2c10f889",
   "metadata": {},
   "outputs": [],
   "source": [
    "print('JPM')\n",
    "print(\"Max:\", autocorr.max())\n",
    "print(\"Min:\", autocorr.min())\n",
    "print(\"Average:\", autocorr.mean())"
   ]
  },
  {
   "cell_type": "markdown",
   "id": "79758c42",
   "metadata": {},
   "source": [
    "S1 (the stock with the highest max autocorrelation) is JPM. A trend following strategy is to buy when the price is above the SMA and sell otherwise.\n",
    "\n",
    "Backtest URL: https://www.quantconnect.com/terminal/processCache?request=embedded_backtest_3d0cf69e92f586b97b32d0e5e3f8eb78.html"
   ]
  }
 ],
 "metadata": {
  "kernelspec": {
   "display_name": "Python 3 (ipykernel)",
   "language": "python",
   "name": "python3"
  },
  "language_info": {
   "codemirror_mode": {
    "name": "ipython",
    "version": 3
   },
   "file_extension": ".py",
   "mimetype": "text/x-python",
   "name": "python",
   "nbconvert_exporter": "python",
   "pygments_lexer": "ipython3",
   "version": "3.9.7"
  }
 },
 "nbformat": 4,
 "nbformat_minor": 5
}
