{
 "cells": [
  {
   "cell_type": "markdown",
   "id": "4da20fc6",
   "metadata": {},
   "source": [
    "# Find optimal portfolio weights"
   ]
  },
  {
   "cell_type": "code",
   "execution_count": null,
   "id": "404d21d8",
   "metadata": {},
   "outputs": [],
   "source": [
    "import numpy as np\n",
    "import pandas as pd\n",
    "from scipy import stats\n",
    "import matplotlib.pyplot as plt\n",
    "import math\n",
    "import datetime \n",
    "import statsmodels.formula.api as smf \n",
    "from datetime import date, time, datetime, timedelta\n",
    "import seaborn as sns\n",
    "import random"
   ]
  },
  {
   "cell_type": "code",
   "execution_count": null,
   "id": "8db18cb2",
   "metadata": {},
   "outputs": [],
   "source": [
    "qb = QuantBook()\n",
    "\n",
    "tickers = ['MS','XOM']\n",
    "symbols = []\n",
    "\n",
    "for ticker in tickers:\n",
    "    symbols.append(qb.AddEquity(ticker, Resolution.Daily).Symbol)\n",
    "\n",
    "start_time = datetime(2017,1,1)\n",
    "end_time = datetime(2018,1,1)\n",
    "history = qb.History(symbols, start_time, end_time, Resolution.Daily)\n",
    "df = history['close'].unstack(level=0)\n",
    "df.columns = tickers"
   ]
  },
  {
   "cell_type": "code",
   "execution_count": null,
   "id": "ac1a8468",
   "metadata": {},
   "outputs": [],
   "source": [
    "# compute daily returns and form covariance matrix of the returns\n",
    "dg = df.pct_change(1).dropna()\n",
    "\n",
    "# covariance matrix of the returns\n",
    "dg_cov= dg.cov()\n",
    "\n",
    "# This function calculate the portfolio return and standard deviation for a given weight\n",
    "def port(wt):\n",
    "    cov_matrix = dg_cov\n",
    "    return_matrix = pd.DataFrame (data = dg.mean())\n",
    "    return_matrix.index = cov_matrix.index\n",
    "    wt.index = cov_matrix.index\n",
    "    v = cov_matrix.dot(wt)\n",
    "    u = return_matrix.T.dot(wt)\n",
    "    port_var = wt.T.dot(v).values\n",
    "    port_return = u.values\n",
    "    \n",
    "    return [port_return, port_var]"
   ]
  },
  {
   "cell_type": "code",
   "execution_count": null,
   "id": "8369ab6c",
   "metadata": {},
   "outputs": [],
   "source": [
    "# simulate portfolio weights.\n",
    "ret = [] # portfolio returns\n",
    "sig = [] # portfolio return volatility\n",
    "weights = []\n",
    "n = 200 #number of simulation run\n",
    "for i in range(n):\n",
    "    w1 = random.randint(0,n)\n",
    "    for j in range (n):\n",
    "        w2 = n-w1\n",
    "        wt = pd.DataFrame([w1/n, w2/n])\n",
    "        weights.append(wt)\n",
    "        \n",
    "        r = port(wt)[0]\n",
    "        v = port(wt)[1]\n",
    "        #print (r, v) \n",
    "        \n",
    "        ret = np.append(ret, r)\n",
    "        sig = np.append(sig, math.sqrt(v))\n",
    "\n",
    "# Generate plot with 200 samples\n",
    "\n",
    "plt.figure(figsize=[17,9])\n",
    "plt.scatter(sig, ret, color =\"green\")\n",
    "plt.xlabel(\"Volatility\", fontsize='large', fontweight='bold')\n",
    "plt.ylabel(\"Expected Return\",fontsize='large', fontweight='bold')\n",
    "plt.title(\"Mean Variance Portfolio Consisting of \" + str(tickers))\n",
    "\n",
    "plt.show()"
   ]
  },
  {
   "cell_type": "code",
   "execution_count": null,
   "id": "30cedb48",
   "metadata": {},
   "outputs": [],
   "source": [
    "# find the optimal portfolio weights\n",
    "sortedsig = [i[0] for i in sorted(enumerate(sig), key=lambda x: abs(0.008-x[1]))]\n",
    "idx = sortedsig[0] # array index of the closest point to 0.008\n",
    "print(weights[idx])"
   ]
  },
  {
   "cell_type": "code",
   "execution_count": null,
   "id": "61ae1153",
   "metadata": {},
   "outputs": [],
   "source": [
    "# compute volatility\n",
    "weights1 = pd.DataFrame([0, 1])\n",
    "weights2 = pd.DataFrame([1, 0])\n",
    "sigma1 = math.sqrt(port(weights1)[1])\n",
    "sigma2 = math.sqrt(port(weights2)[1])\n",
    "print(sigma1, sigma2)"
   ]
  },
  {
   "cell_type": "code",
   "execution_count": null,
   "id": "3c4d0dff",
   "metadata": {},
   "outputs": [],
   "source": [
    "tickers = ['MS','XOM']\n",
    "symbols = []\n",
    "\n",
    "for ticker in tickers:\n",
    "    symbols.append(qb.AddEquity(ticker, Resolution.Daily).Symbol)\n",
    "\n",
    "start_time = datetime(2017,1,1)\n",
    "end_time = datetime(2018,1,1)\n",
    "history = qb.History(symbols, start_time, end_time, Resolution.Daily)\n",
    "df = history['close'].unstack(level=0)\n",
    "df.columns = tickers"
   ]
  }
 ],
 "metadata": {
  "kernelspec": {
   "display_name": "Python 3 (ipykernel)",
   "language": "python",
   "name": "python3"
  },
  "language_info": {
   "codemirror_mode": {
    "name": "ipython",
    "version": 3
   },
   "file_extension": ".py",
   "mimetype": "text/x-python",
   "name": "python",
   "nbconvert_exporter": "python",
   "pygments_lexer": "ipython3",
   "version": "3.9.7"
  }
 },
 "nbformat": 4,
 "nbformat_minor": 5
}
